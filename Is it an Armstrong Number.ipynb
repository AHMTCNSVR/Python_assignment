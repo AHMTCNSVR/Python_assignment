{
 "cells": [
  {
   "cell_type": "code",
   "execution_count": null,
   "metadata": {},
   "outputs": [],
   "source": [
    "positive_num = int(input(\"write positive int number:\"))\n",
    "sum_int = 0\n",
    "order = len(str(positive_num))\n",
    "temp = positive_num\n",
    "while temp > 0:\n",
    "    digit = temp % 10\n",
    "    sum_int += digit ** order\n",
    "    temp //= 10\n",
    "if positive_num == sum_int:\n",
    "    print(positive_num,\"is an Amstrong number\")\n",
    "else:\n",
    "    print(positive_num,\"is not an Amstrong number\")\n",
    "\n",
    "\n"
   ]
  },
  {
   "cell_type": "code",
   "execution_count": null,
   "metadata": {},
   "outputs": [],
   "source": []
  }
 ],
 "metadata": {
  "kernelspec": {
   "display_name": "Python 3",
   "language": "python",
   "name": "python3"
  },
  "language_info": {
   "codemirror_mode": {
    "name": "ipython",
    "version": 3
   },
   "file_extension": ".py",
   "mimetype": "text/x-python",
   "name": "python",
   "nbconvert_exporter": "python",
   "pygments_lexer": "ipython3",
   "version": "3.8.5"
  }
 },
 "nbformat": 4,
 "nbformat_minor": 4
}
